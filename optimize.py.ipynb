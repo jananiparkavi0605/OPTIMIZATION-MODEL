{
 "cells": [
  {
   "cell_type": "code",
   "execution_count": 2,
   "id": "16ca4657",
   "metadata": {},
   "outputs": [
    {
     "name": "stderr",
     "output_type": "stream",
     "text": [
      "C:\\Users\\janan\\anaconda3\\Lib\\site-packages\\pulp\\pulp.py:1298: UserWarning: Spaces are not permitted in the name. Converted to '_'\n",
      "  warnings.warn(\"Spaces are not permitted in the name. Converted to '_'\")\n"
     ]
    },
    {
     "name": "stdout",
     "output_type": "stream",
     "text": [
      "Status: 1\n",
      "Product A produced: 4.0\n",
      "Product B produced: 14.0\n",
      "Total Profit: $76.0\n"
     ]
    }
   ],
   "source": [
    "# Import necessary libraries\n",
    "from pulp import LpMaximize, LpProblem, LpVariable, lpSum\n",
    "\n",
    "# Create a linear programming problem\n",
    "problem = LpProblem(\"Maximize Profit\", LpMaximize)\n",
    "\n",
    "# Define decision variables: number of products A and B to produce\n",
    "A = LpVariable(\"A\", lowBound=0, cat=\"Integer\")\n",
    "B = LpVariable(\"B\", lowBound=0, cat=\"Integer\")\n",
    "\n",
    "# Objective function: Maximize profit\n",
    "problem += 5 * A + 4 * B, \"Total Profit\"\n",
    "\n",
    "# Constraints:\n",
    "problem += 2 * A + 3 * B <= 50, \"Material Constraint\"\n",
    "problem += 3 * A + 2 * B <= 40, \"Labor Constraint\"\n",
    "problem += A <= 12, \"Demand for Product A\"\n",
    "problem += B <= 15, \"Demand for Product B\"\n",
    "\n",
    "# Solve the problem\n",
    "problem.solve()\n",
    "\n",
    "# Print the results\n",
    "print(f\"Status: {problem.status}\")\n",
    "print(f\"Product A produced: {A.varValue}\")\n",
    "print(f\"Product B produced: {B.varValue}\")\n",
    "print(f\"Total Profit: ${problem.objective.value()}\")\n"
   ]
  },
  {
   "cell_type": "code",
   "execution_count": null,
   "id": "86ef4b2c",
   "metadata": {},
   "outputs": [],
   "source": []
  }
 ],
 "metadata": {
  "kernelspec": {
   "display_name": "Python 3 (ipykernel)",
   "language": "python",
   "name": "python3"
  },
  "language_info": {
   "codemirror_mode": {
    "name": "ipython",
    "version": 3
   },
   "file_extension": ".py",
   "mimetype": "text/x-python",
   "name": "python",
   "nbconvert_exporter": "python",
   "pygments_lexer": "ipython3",
   "version": "3.11.5"
  }
 },
 "nbformat": 4,
 "nbformat_minor": 5
}
